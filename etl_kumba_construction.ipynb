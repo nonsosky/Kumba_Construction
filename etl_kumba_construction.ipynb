{
 "cells": [
  {
   "cell_type": "markdown",
   "metadata": {},
   "source": [
    "## Importing Neccessary Libraries"
   ]
  },
  {
   "cell_type": "code",
   "execution_count": 1,
   "metadata": {},
   "outputs": [],
   "source": [
    "from pyspark.sql import SparkSession\n",
    "from sqlalchemy import create_engine\n",
    "import pandas as pd"
   ]
  },
  {
   "cell_type": "code",
   "execution_count": 3,
   "metadata": {},
   "outputs": [],
   "source": [
    "# Initialize Spark Session\n",
    "spark = SparkSession.builder.appName('kumbaConstructionETL').getOrCreate()"
   ]
  },
  {
   "cell_type": "code",
   "execution_count": 11,
   "metadata": {},
   "outputs": [],
   "source": [
    "# Read data to spark\n",
    "kumba_construction_df = spark.read.option(\"multiLine\", \"true\").option(\"delimiter\", \",\").csv(r'dataset\\kumba_construction_data.csv', header=True, inferSchema=True)"
   ]
  },
  {
   "cell_type": "code",
   "execution_count": 12,
   "metadata": {},
   "outputs": [
    {
     "name": "stdout",
     "output_type": "stream",
     "text": [
      "+--------------------+--------------------+--------------------+--------------+-------------+----------+----------+---------------+----------+--------------------+------------------+--------+--------------------+----------------------+-------------+---------+-------------+----------+--------------+----------------+--------------------+----------------+----------------+-------------------+-----------------+------------------------+---------------------+---------------+--------------------+----+\n",
      "|           ProjectID|         ProjectName|          ClientName|   ProjectType|ProjectStatus| StartDate|   EndDate|EstimatedBudget|ActualCost|            Location|       ManagerName|TeamSize|      ContractorName|NumberOfSubcontractors|MaterialsCost|LaborCost|EquipmentCost|PermitFees|InspectionFees|ChangeOrderCount|SafetyIncidentsCount|ProjectDelayDays|WeatherDelayDays|ClientFeedbackScore|QualityAuditScore|EnvironmentalImpactScore|EnergyEfficiencyScore|InnovationScore|CommunityImpactScore| ROI|\n",
      "+--------------------+--------------------+--------------------+--------------+-------------+----------+----------+---------------+----------+--------------------+------------------+--------+--------------------+----------------------+-------------+---------+-------------+----------+--------------+----------------+--------------------+----------------+----------------+-------------------+-----------------+------------------------+---------------------+---------------+--------------------+----+\n",
      "|59413bdf-b9f6-477...|Profound client-d...|Harrison, Evans a...|    Commercial|     Planning|2021-06-19|2021-12-04|         101382|   3125833|40406 Ortiz Ridge...|      Jamie Martin|      19|Johnson, Salazar ...|                     1|     552909.0|     NULL|     632947.0|    5827.0|        5339.0|            NULL|                 3.0|            71.0|            28.0|                3.0|              4.0|                     3.0|                  1.0|            4.0|                 4.0|0.64|\n",
      "|e71e25d8-05f7-49f...|Adaptive content-...|           Rios-Wang|    Commercial|  In Progress|2023-12-18|2024-09-10|        5963875|   1718355|Unit 8970 Box 076...|     Jamie Charles|      47|Miller, Rios and ...|                     8|     155175.0|  54782.0|     470667.0|    8889.0|        7910.0|             2.0|                 2.0|            56.0|            23.0|                5.0|              6.0|                     7.0|                  8.0|           10.0|                 4.0|NULL|\n",
      "|351db883-8983-463...|Managed attitude-...|Carrillo, Potts a...|Infrastructure|     Planning|2022-07-31|2023-04-03|        5212373|   9682407|92632 Moore Turnp...| Margaret Williams|      31|       Salazar-Cohen|                     1|     514047.0|  16380.0|       5270.0|    8561.0|        1115.0|            NULL|                NULL|            57.0|            10.0|                7.0|              3.0|                     3.0|                  6.0|            5.0|                 7.0|0.96|\n",
      "|7b68c015-43fa-48c...|Realigned bandwid...|Grant, Becker and...|Infrastructure|  In Progress|2022-10-02|2022-11-14|        9128447|   4065993|6913 Mckinney Por...|     Pamela Wilson|      11|Long, Taylor and ...|                     7|     441414.0|  95280.0|     593193.0|    6109.0|        8550.0|             4.0|                 2.0|            10.0|             1.0|               NULL|              6.0|                     2.0|                  8.0|            7.0|                10.0|0.98|\n",
      "|dbff5734-d766-4a0...|Inverse well-modu...|Schwartz, Pitts a...|    Commercial|    Completed|2021-04-02|2022-01-25|        6013650|   3477888|775 Taylor Drive ...|     Claudia Smith|      37|Mendoza, Hale and...|                     8|     191549.0| 925799.0|      66991.0|    8933.0|        7978.0|            NULL|                 4.0|            57.0|             2.0|                2.0|              2.0|                    10.0|                  4.0|            5.0|                 1.0|0.72|\n",
      "|f6847027-1aa8-4f8...|Virtual secondary...|   Macdonald-Griffin|   Residential|    Completed|2023-09-10|2024-06-29|        4004423|   3948744|101 Brenda Stream...|     Hannah Nguyen|      14|Edwards, Greer an...|                     3|     914704.0| 555177.0|     512042.0|    4108.0|          NULL|             5.0|                 2.0|             3.0|             8.0|                9.0|              4.0|                     2.0|                 NULL|            2.0|                 1.0|0.12|\n",
      "|2185edac-0676-42e...|Robust heuristic ...|          Dawson LLC|    Commercial|    Completed|2021-09-03|2022-03-01|         564177|   4125137|Unit 8357 Box 998...|    Brittany Kelly|      32|Gonzalez, Roberts...|                     8|     567670.0| 643990.0|     758921.0|    7483.0|        2765.0|             2.0|                 3.0|            86.0|             6.0|                3.0|             NULL|                     9.0|                  8.0|            2.0|                 2.0|0.74|\n",
      "|0f4e1953-d4fd-4e7...|Integrated asymme...|           Davis PLC|   Residential|     Planning|2023-03-30|2023-12-30|        5754007|   1624969|Unit 8667 Box 256...|      Emily Moreno|      32|       Warren-Palmer|                     2|     366998.0| 654725.0|      75077.0|    6413.0|        8435.0|             5.0|                 5.0|            50.0|            NULL|                2.0|              1.0|                     6.0|                  1.0|           10.0|                 4.0|0.91|\n",
      "|743e015b-d3b5-4d3...|Managed web-enabl...|            Vang Inc|    Commercial|     Planning|2021-08-11|2022-04-21|        6480283|   9762897|293 Martinez Unio...|    Caleb Mitchell|      14|       Marshall-Long|                     1|     965535.0| 950875.0|     689309.0|    8898.0|        7801.0|             0.0|                 8.0|            NULL|            15.0|                7.0|             10.0|                     2.0|                 10.0|            1.0|                 9.0|0.24|\n",
      "|06e9458e-1cb1-441...|Open-architected ...|Pierce, Huynh and...|    Commercial|     Planning|2023-02-05|2024-01-03|        4496241|   9671059|322 Christina Mis...|       Lisa Howell|      50|          Duran-King|                     8|     920239.0| 666874.0|     856667.0|    5640.0|        9584.0|             4.0|                 3.0|            19.0|             6.0|                2.0|             10.0|                     7.0|                  1.0|            1.0|                NULL|0.77|\n",
      "|4fc88fcd-dada-44a...|Cross-group multi...|Joyce, Donaldson ...|   Residential|  In Progress|2023-10-30|2024-03-20|        8749077|   3769162|6887 Amber Greens...| Richard Gutierrez|      28|            Wong Inc|                    10|     498492.0| 281071.0|     522638.0|    5345.0|        3448.0|             3.0|                 5.0|            13.0|             0.0|                9.0|              3.0|                     4.0|                  2.0|            6.0|                 6.0|0.24|\n",
      "|6baebe9e-548f-41e...|Optional foregrou...|Barron, Villegas ...|   Residential|  In Progress|2021-11-26|2022-06-21|        9799686|   9673820|198 Jonathan Ford...|   James Robertson|      27|         Walsh-Hayes|                     8|     403895.0| 136471.0|     906214.0|    1241.0|        2330.0|             2.0|                 2.0|            68.0|            25.0|                9.0|              8.0|                     7.0|                  4.0|           10.0|                 5.0|0.04|\n",
      "|91e8de60-69e7-489...|Cross-platform fr...|    Perkins and Sons|    Commercial|  In Progress|2022-06-15|2023-05-15|        2933981|   4220851|89725 Timothy Fla...|       Carla Lopez|      29|          Wilson PLC|                     7|     977068.0|     NULL|     617185.0|    8590.0|        8082.0|             5.0|                 5.0|            90.0|            15.0|                5.0|              4.0|                     9.0|                  4.0|            6.0|                 1.0|0.21|\n",
      "|4b03b004-db7f-4c2...|Streamlined stati...|Young, Mccullough...|Infrastructure|     Planning|2023-03-06|2024-01-28|        4707498|   6734964|905 Neal Streets\\...|    Angela Ramirez|      13|Ward, Maldonado a...|                     5|         NULL|     NULL|         NULL|    5339.0|        7037.0|             4.0|                 1.0|            73.0|            24.0|                4.0|              5.0|                     9.0|                  5.0|            9.0|                 8.0|0.28|\n",
      "|78a993dc-9193-41b...|Phased intangible...|       Patton-Garcia|Infrastructure|    Completed|2023-11-04|2024-09-06|        6531461|   7478955|45396 Cantu Corne...|     Terry Sanchez|      32|Miles, Sanders an...|                     8|     393594.0| 762666.0|     916126.0|    6778.0|          NULL|             6.0|                 1.0|            74.0|            NULL|                2.0|              4.0|                     9.0|                  6.0|            1.0|                 2.0|0.95|\n",
      "|c298523d-4158-48a...|Reverse-engineere...|           Clark Ltd|Infrastructure|  In Progress|2023-11-25|2024-04-22|        1973207|   6014069|12652 Patrick Run...| Stephanie Pearson|      25|   Guerrero-Townsend|                     3|         NULL|  28596.0|     809502.0|    3522.0|        9762.0|             8.0|                 7.0|            18.0|             9.0|                2.0|              3.0|                     5.0|                  7.0|           10.0|                 2.0|0.52|\n",
      "|a04734e5-8d28-411...|Profound scalable...|        Adams-Taylor|Infrastructure|    Completed|2022-10-21|2023-03-18|        7140660|   9517104|108 Shane Ford Su...|        Ryan Lynch|      12|Foley, Page and F...|                     7|     735279.0| 605048.0|     565645.0|    2545.0|        2698.0|             0.0|                 2.0|            68.0|            13.0|                5.0|              6.0|                     1.0|                  9.0|            8.0|                 5.0|0.48|\n",
      "|852a8c71-75d5-4dd...|Ameliorated zero ...|Anderson, Wade an...|   Residential|  In Progress|2022-12-29|2023-02-02|         859418|    647348|7252 Richard Harb...|     Jessica Mckay|      43|Newman, Hooper an...|                     1|     989271.0| 721569.0|     454906.0|    3806.0|        3710.0|             3.0|                 6.0|            31.0|            19.0|                9.0|              6.0|                     8.0|                 10.0|            1.0|                NULL|0.14|\n",
      "|92495ece-38fc-4f5...|Managed cohesive ...|         Russell PLC|   Residential|     Planning|2023-01-27|2023-09-10|        8819153|     33369|87066 Maria Prair...|  Christine Taylor|      36|Pope, Gonzales an...|                     3|     303442.0| 322660.0|     804285.0|    1563.0|        8715.0|            NULL|                 7.0|            50.0|             0.0|                7.0|              6.0|                     3.0|                 10.0|           10.0|                NULL|0.53|\n",
      "|0f8ce4b3-aeb0-47f...|Progressive async...|            Hall Inc|Infrastructure|  In Progress|2022-07-23|2023-02-05|        7442864|   9011576|0967 Ferrell Port...|   Darren Thompson|      26|     Sullivan-Deleon|                     6|     548784.0| 647323.0|     906498.0|    9899.0|         636.0|             1.0|                 4.0|            34.0|            NULL|                1.0|              2.0|                     5.0|                  8.0|           NULL|                 6.0|0.89|\n",
      "|a751eeb6-f358-417...|Switchable logist...|Scott, Brown and ...|    Commercial|     Planning|2023-02-15|2023-08-07|        7161207|   4429215|260 Shelby Juncti...|      Damon Newton|      14|       Kramer-Decker|                     5|     388867.0| 854156.0|     571951.0|    5260.0|        6859.0|             6.0|                 1.0|            85.0|             8.0|                2.0|              9.0|                     5.0|                  1.0|            8.0|                 4.0|0.81|\n",
      "|be253147-037c-4c4...|Total 3rdgenerati...|       Rodriguez Inc|    Commercial|  In Progress|2022-10-07|2022-11-22|        1694896|   5349788|882 Darren Views\\...|    David Callahan|      36|Butler, Randolph ...|                     7|      66128.0| 239714.0|     166571.0|    1918.0|         489.0|             3.0|                 9.0|            44.0|            29.0|               NULL|              4.0|                     1.0|                  7.0|           NULL|                 1.0|0.43|\n",
      "|961889e5-5a41-4c0...|Multi-channeled z...|        Allen-Maddox|   Residential|  In Progress|2021-07-07|2022-03-10|        1289035|   6745236|389 Diane Rapids\\...|     Jennifer Byrd|      24|         Barrera Inc|                     5|     686542.0| 293563.0|     708283.0|    6261.0|        3514.0|            NULL|                 3.0|            29.0|            NULL|               NULL|              2.0|                    NULL|                 NULL|           NULL|                 4.0| 0.8|\n",
      "|fd13b001-0576-42b...|Mandatory non-vol...|       Anderson-Ward|    Commercial|    Completed|2022-08-05|2023-07-27|        8563198|   9300055|349 Margaret Port...|        Mary Patel|      23|            Cook Inc|                     6|     879205.0| 173470.0|     764615.0|    5548.0|        5431.0|             9.0|                 9.0|            NULL|            27.0|               10.0|              6.0|                     2.0|                 10.0|            3.0|                 2.0|0.48|\n",
      "|d0560dfd-b580-448...|Reactive regional...|       Hernandez-Lee|   Residential|    Completed|2021-11-09|2022-05-21|        1825531|   9366743|916 Cook Greens\\n...|        Eric Lewis|      10| Livingston and Sons|                    10|     687046.0| 680060.0|     423402.0|    5733.0|        3699.0|             2.0|                NULL|             5.0|            26.0|                5.0|             NULL|                     9.0|                  7.0|            1.0|                NULL|NULL|\n",
      "|15591039-b49f-495...|Optional executiv...|     Atkins and Sons|Infrastructure|  In Progress|2021-08-11|2022-06-08|        9169301|   8319890|6230 Gilbert Rue\\...|   Samuel Gallegos|      46|Brock, Hernandez ...|                     4|     352510.0| 671531.0|     531732.0|    7978.0|        8209.0|            NULL|                 9.0|            66.0|            NULL|                4.0|              4.0|                     4.0|                  2.0|            6.0|                 1.0|0.19|\n",
      "|74494a36-53a0-413...|Front-line dynami...|Tucker, Jones and...|    Commercial|     Planning|2024-01-31|2024-09-15|        3218169|   7926072|5392 Michelle Jun...|      Renee Norman|      29|        Day and Sons|                     3|     133478.0| 413440.0|     832610.0|    3633.0|        6751.0|             7.0|                 9.0|            83.0|            28.0|               10.0|              1.0|                     2.0|                  5.0|            3.0|                NULL|0.97|\n",
      "|7fc03f73-2ce0-421...|Public-key recipr...|      Fernandez-King|   Residential|  In Progress|2024-01-01|2024-05-30|        3810943|   7866947|425 Villanueva Ro...| Richard Christian|      24|         White Group|                     5|     294146.0| 460423.0|     274964.0|    7546.0|        7743.0|             4.0|                 5.0|            82.0|            12.0|                6.0|              3.0|                     9.0|                  8.0|            5.0|                 2.0|0.72|\n",
      "|6d60cae6-6ddc-44b...|Sharable even-kee...|      Thomas-Hancock|   Residential|    Completed|2023-01-19|2024-01-08|         265433|    330910|021 Perry Lodge\\n...|   Steven Santiago|      15|     Johnson-Pacheco|                     7|     166740.0| 539642.0|     136161.0|    7165.0|        9289.0|             8.0|                 4.0|             2.0|            26.0|                6.0|              7.0|                     9.0|                  7.0|            8.0|                 7.0|0.18|\n",
      "|bf0b2349-73e6-4e3...|Centralized incre...|      Vasquez-Wright|    Commercial|    Completed|2022-11-17|2023-10-30|        5150564|   5222937|95823 Jesse Brook...|    Megan Mckinney|      43|     Cooper and Sons|                     7|     667194.0| 423160.0|     246726.0|    3384.0|        5449.0|            NULL|                 0.0|            60.0|            NULL|                7.0|              6.0|                     4.0|                  2.0|            1.0|                10.0| 0.2|\n",
      "|55e92c64-4e56-4fa...|Visionary radical...|Klein, Brown and ...|   Residential|     Planning|2022-03-04|2022-07-05|        5063141|   9514259|44465 Smith Stree...|   Matthew Hartman|      15|Smith, Sanchez an...|                     3|     888994.0|  79900.0|     274583.0|    2860.0|        1256.0|             5.0|                 7.0|             1.0|            21.0|                5.0|              6.0|                    10.0|                  8.0|            3.0|                 5.0| 0.9|\n",
      "|07a6a854-a2f2-4f4...|Future-proofed at...|          Travis LLC|   Residential|    Completed|2021-07-26|2022-04-19|        1639132|   5119586|99508 Alvarado Mi...|    Charles Wright|      25|          Roth Group|                     3|         NULL| 870171.0|     564373.0|    8473.0|        7651.0|             5.0|                 9.0|            19.0|             8.0|                4.0|              5.0|                     6.0|                 NULL|            3.0|                10.0|0.38|\n",
      "|1b511a51-99e8-4f5...|Upgradable modula...|         Watts Group|Infrastructure|     Planning|2021-03-30|2022-01-12|        8323652|   2039069|56858 Aaron Forks...|      Destiny Peck|      31|Richardson, Carls...|                     6|     723406.0| 866055.0|     121792.0|    6851.0|         830.0|             6.0|                 3.0|            28.0|            28.0|                3.0|              4.0|                     7.0|                  8.0|            2.0|                 2.0|0.59|\n",
      "|feb43ab5-dad8-4b8...|Managed web-enabl...|Brown, Nelson and...|    Commercial|    Completed|2023-03-28|2023-10-17|        2528421|   6589382|4233 Megan Oval\\n...|       Kristi Shaw|      11|             Lee Ltd|                    10|     393371.0|  72341.0|     251675.0|    8459.0|        5946.0|             5.0|                 4.0|            21.0|            19.0|                5.0|              1.0|                     4.0|                 NULL|            7.0|                 4.0|0.69|\n",
      "|49f8381e-9cbd-42a...|Fully-configurabl...|     Fuller-Faulkner|    Commercial|  In Progress|2023-04-18|2023-10-31|        2752937|   6117121|563 Isaac Parkway...|      Taylor Moore|       7|           Blake Inc|                    10|         NULL| 771981.0|     480467.0|    6555.0|        4030.0|            NULL|                 5.0|            42.0|             6.0|               10.0|              1.0|                     1.0|                  8.0|            7.0|                 8.0|0.35|\n",
      "|42fe3650-5ff2-467...|Diverse web-enabl...|Ball, Massey and ...|Infrastructure|     Planning|2021-08-25|2022-08-03|        5656630|   3442415|USCGC Cummings\\nF...|       Paul Tucker|      33|         Chase-Drake|                     7|     633013.0| 853832.0|     263532.0|    2545.0|        8316.0|             1.0|                 5.0|            22.0|            27.0|                7.0|              4.0|                     9.0|                  2.0|           10.0|                 6.0|0.77|\n",
      "|93cdf212-2c82-4d9...|Centralized bifur...|       Bond and Sons|    Commercial|  In Progress|2023-02-18|2023-12-11|        3128017|    187771|9893 Shawn Highwa...|    Melvin Solomon|      23|Mccoy, Warren and...|                     6|         NULL| 283032.0|     795729.0|     213.0|        6011.0|             6.0|                 1.0|            27.0|            11.0|                2.0|             10.0|                     5.0|                  2.0|            6.0|                10.0|0.58|\n",
      "|1dc343cb-526a-492...|Switchable system...|Paul, Matthews an...|    Commercial|  In Progress|2021-04-18|2021-07-22|        5132608|   6702555|19469 Anna Bypass...|    Chad Alexander|      48|          Meza-Moore|                     4|      36067.0| 920406.0|     570091.0|    2025.0|        2864.0|             3.0|                 1.0|            65.0|             3.0|                6.0|              4.0|                     8.0|                  1.0|            9.0|                 8.0|0.64|\n",
      "|cf620fc2-9026-460...|Focused needs-bas...|         Jimenez Inc|Infrastructure|     Planning|2021-07-10|2022-07-06|        4295632|   1846151|452 Whitney Mill ...|  Dr. Damon Powell|      45|     Mcdonald-Turner|                     1|     353647.0| 757686.0|         NULL|    2351.0|        4757.0|             1.0|                 6.0|            56.0|            12.0|                9.0|              4.0|                     3.0|                  8.0|            1.0|                 3.0|NULL|\n",
      "|4572cb7c-c635-47f...|Total intermediat...|King, Contreras a...|   Residential|     Planning|2021-04-10|2021-06-01|        6645985|   5334564|7307 William Glen...|      Mark Bonilla|      48|Mccarthy, Roth an...|                     5|     240817.0| 332364.0|     806679.0|    9032.0|          NULL|             7.0|                 6.0|            24.0|            NULL|                3.0|             NULL|                     2.0|                  6.0|            4.0|                 8.0|0.29|\n",
      "|23d7aafa-64fd-4c3...|Centralized missi...|   Robinson and Sons|   Residential|     Planning|2023-04-25|2023-05-29|        3356731|   7282606|055 Patterson Com...|   Alicia Mcdaniel|       9|Daniel, Ingram an...|                     9|     573993.0|     NULL|     605844.0|    7663.0|        9574.0|             4.0|                 7.0|            23.0|             8.0|                8.0|             NULL|                     1.0|                  8.0|            2.0|                10.0|NULL|\n",
      "|6a733057-fdcb-40a...|User-centric solu...|        Nelson Group|    Commercial|  In Progress|2022-04-01|2022-12-26|        2914223|   7842360|76022 Fowler Lane...|      Teresa Smith|      42|         Mccoy-Lynch|                     4|     563580.0| 104214.0|     905582.0|    9195.0|        8003.0|             0.0|                 7.0|            16.0|            15.0|                4.0|              6.0|                     2.0|                  8.0|            4.0|                 6.0|NULL|\n",
      "|d7164d96-d2cc-4a8...|Adaptive client-d...|      Stokes-Barrera|   Residential|    Completed|2021-07-01|2021-11-23|        6587043|   4129881|66788 Danielle Cl...|       Holly Brown|      30|       Shepard-Marsh|                     2|      67615.0|     NULL|     810482.0|    5097.0|          NULL|             4.0|                 1.0|             1.0|            10.0|               NULL|              1.0|                     3.0|                  8.0|            3.0|                NULL|0.66|\n",
      "|9a939b63-d8ac-47c...|Public-key asymme...|          Watson Ltd|Infrastructure|  In Progress|2023-05-13|2023-12-14|         677149|   7842000|514 Bradley Harbo...|    Ashlee Johnson|       6|Rogers, Dean and ...|                     5|     436379.0|  83587.0|     935880.0|    3993.0|        1056.0|             8.0|                 1.0|            18.0|            NULL|                2.0|              2.0|                     7.0|                 NULL|            3.0|                 5.0|0.51|\n",
      "|85d22e67-0a0f-414...|Public-key tertia...|         Chavez-Bray|    Commercial|  In Progress|2023-05-17|2024-02-21|        1571169|   8712615|976 Sergio Throug...|    Hannah Solomon|      16|Bullock, Luna and...|                     5|     429743.0| 655813.0|     460546.0|    6671.0|        2017.0|             5.0|                 2.0|            18.0|            15.0|               10.0|              4.0|                     4.0|                  1.0|            4.0|                 4.0|0.15|\n",
      "|7b9f35dc-62a8-40a...|Versatile context...|Parker, Walker an...|Infrastructure|    Completed|2022-12-30|2023-12-15|        7956783|   9539601|2448 Gordon Rapid...| Thomas Cunningham|       8|            Tran Inc|                     5|     698938.0|     NULL|         NULL|    9155.0|        8281.0|             1.0|                NULL|            12.0|            30.0|                7.0|              4.0|                     5.0|                  8.0|            1.0|                 9.0|0.55|\n",
      "|e45f22f5-f5b9-446...|Profit-focused st...|Davis, Kaufman an...|    Commercial|    Completed|2022-08-13|2023-05-30|        2058270|   7505584|092 Garcia Union\\...|      Karen Brooks|      31|            Ryan PLC|                    10|     823178.0| 494585.0|     614084.0|    4032.0|        3879.0|            NULL|                 4.0|            19.0|             2.0|               10.0|             NULL|                     3.0|                 NULL|           NULL|                 6.0|0.71|\n",
      "|ca389655-53bb-465...|Open-architected ...|        Williams PLC|    Commercial|     Planning|2021-07-11|2022-02-16|        2376350|   6857574|4361 Dean Mission...|      Brooke Gomez|      50|      Garza and Sons|                     9|     914065.0|  85854.0|     848420.0|    9902.0|          NULL|             2.0|                 8.0|            60.0|            17.0|                4.0|              5.0|                     4.0|                  1.0|            7.0|                 5.0|NULL|\n",
      "|9aa4cd22-8390-448...|Automated scalabl...|      Crawford-Short|    Commercial|  In Progress|2022-03-30|2022-10-05|        7343874|   4936341|788 Hansen Square...|Jonathan Blackwell|       9|Knox, Henderson a...|                     6|     422942.0| 787981.0|     666342.0|    2390.0|        8869.0|             9.0|                 7.0|            38.0|            28.0|                1.0|              7.0|                     9.0|                  1.0|            6.0|                 1.0|0.03|\n",
      "|92e1b596-96dc-4d7...|Triple-buffered c...|         Tanner-Cobb|Infrastructure|  In Progress|2022-06-30|2023-05-18|        4281002|   7201514|5685 Huffman Unde...|      Pamela Price|      48|         Hicks Group|                     3|         NULL| 370113.0|         NULL|      NULL|        4226.0|            NULL|                 7.0|            42.0|            24.0|                2.0|              2.0|                     3.0|                  4.0|            8.0|                 8.0| 0.0|\n",
      "|952272a5-2c8f-491...|Cross-platform fu...|        Marshall LLC|    Commercial|    Completed|2021-04-21|2022-01-02|        3974162|    291277|10937 Roth Ports\\...|     Stephanie Cox|      19|Paul, Pearson and...|                     7|     797901.0| 493894.0|     635857.0|    9100.0|          NULL|             1.0|                 6.0|            22.0|            11.0|                6.0|             10.0|                     1.0|                  1.0|           10.0|                 2.0|0.39|\n",
      "|1a6aaff4-e5ad-4cf...|Object-based bifu...|Daniels, Martinez...|    Commercial|    Completed|2022-07-12|2023-05-30|        5784862|   4104790|6611 Roberts Lock...|      Brandi Allen|      16|         Riley-Green|                     4|     308996.0| 436545.0|     647854.0|    3821.0|        8479.0|             5.0|                 1.0|             3.0|             9.0|                5.0|              8.0|                     2.0|                  4.0|            4.0|                 8.0|0.12|\n",
      "|44f739d3-0a80-4dc...|Managed next gene...|        Duran-Duncan|    Commercial|  In Progress|2021-09-24|2022-03-06|         706642|   2005958|USNV Mitchell\\nFP...|     Michael Wells|      30|Schroeder, Becker...|                     6|     583590.0| 660616.0|     658601.0|    9833.0|        3743.0|             7.0|                 3.0|            54.0|             2.0|                5.0|              9.0|                     3.0|                 NULL|            1.0|                 6.0|0.87|\n",
      "|fb4dc0b9-01af-4e1...|Function-based le...|       Valentine LLC|   Residential|    Completed|2021-06-12|2021-08-12|        7433097|   7256099|310 Kayla Meadows...|         Kyle Ford|      13|      Martinez Group|                    10|     537850.0| 437831.0|     747123.0|    3190.0|        4316.0|             4.0|                 6.0|            37.0|             5.0|                5.0|              6.0|                     9.0|                  5.0|            7.0|                 7.0|0.74|\n",
      "|56fe06cd-6494-4dd...|Reverse-engineere...|Gillespie, Castil...|   Residential|  In Progress|2021-05-15|2022-02-08|        9733378|   3369757|PSC 4181, Box 983...|        Julie Reed|       8|     Morgan and Sons|                     1|     975816.0| 222345.0|     366129.0|    1338.0|        4272.0|             5.0|                 6.0|            34.0|             5.0|                4.0|              4.0|                     2.0|                  6.0|            9.0|                 3.0|0.61|\n",
      "|7e0b1f97-049b-423...|Synergistic next ...|Hill, Daniel and ...|    Commercial|     Planning|2021-03-31|2021-05-06|        3722837|   7353914|560 Moore Gardens...|       Joshua King|      47|Nguyen, Weaver an...|                     7|     409710.0| 804389.0|     151508.0|    9023.0|        5304.0|             8.0|                 3.0|            49.0|            20.0|               NULL|              3.0|                     4.0|                 NULL|           NULL|                 8.0| 0.0|\n",
      "|0fb7f3d7-51ad-40a...|Cross-platform lo...|Bowen, Owens and ...|   Residential|  In Progress|2022-07-06|2023-04-15|        5132791|   7635012|92135 Jennifer Ca...|       Paul Chavez|      31|         Cook-Miller|                     8|     190043.0| 634147.0|     942472.0|    9984.0|        7679.0|             0.0|                NULL|            88.0|            23.0|                2.0|              7.0|                     1.0|                  6.0|            1.0|                 1.0|0.09|\n",
      "|224fc864-1b5e-42c...|Centralized async...|          Chen-Smith|    Commercial|     Planning|2022-05-20|2023-02-25|        7060687|   7201626|238 Amanda Creek ...|    Crystal Haynes|      18|        Little-Frank|                     2|     848901.0| 570352.0|     977368.0|    4055.0|        1153.0|             6.0|                NULL|            81.0|            NULL|                9.0|              4.0|                     6.0|                  5.0|            5.0|                 3.0|0.84|\n",
      "|dd5e42a4-ca32-403...|Persistent client...|   Fernandez-Stewart|   Residential|     Planning|2022-12-21|2023-07-15|        4468247|   9811881|0435 Young View\\n...|        Sara Quinn|      39|Taylor, Wheeler a...|                     9|         NULL|     NULL|         NULL|    8874.0|        8389.0|             6.0|                 4.0|            69.0|            16.0|                2.0|              6.0|                     1.0|                  7.0|            2.0|                 4.0|NULL|\n",
      "|e65be8c6-26df-4aa...|Cross-group mobil...|     Gonzalez-Nguyen|    Commercial|  In Progress|2021-12-10|2022-04-10|        6737856|   9291700|9647 Jeffrey Row ...|     Randy Barajas|      30|Rivera, Matthews ...|                     6|         NULL| 594666.0|      75709.0|      75.0|        2737.0|             6.0|                 8.0|            NULL|             2.0|                8.0|              4.0|                    NULL|                  2.0|           10.0|                 8.0|0.14|\n",
      "|e03d2947-3322-487...|Configurable asyn...|Martin, Leach and...|   Residential|    Completed|2024-01-21|2024-07-19|        8823829|   4574558|33904 Fry Vista A...|      Joanne Davis|      29|          George Inc|                     7|     252123.0| 496882.0|         NULL|      NULL|        1492.0|            NULL|                 1.0|            60.0|            21.0|                2.0|              8.0|                    NULL|                  7.0|           NULL|                NULL|0.76|\n",
      "|7c1024dc-a2ce-4dc...|Phased bottom-lin...|Riley, Hamilton a...|   Residential|    Completed|2023-07-14|2024-07-12|        2215563|   3176459|69622 Sarah Shore...|     Robert Bowman|      22|         Scott-Lopez|                     2|     557725.0| 789742.0|      95196.0|    9136.0|         503.0|             2.0|                NULL|             6.0|             9.0|                2.0|              4.0|                     9.0|                  3.0|            1.0|                 8.0|0.94|\n",
      "|0749f15b-be0a-4cc...|Profit-focused as...|Nguyen, Krause an...|    Commercial|  In Progress|2021-09-04|2022-08-27|        7746371|    945445|36186 Morgan Driv...|          Gary Lee|      22|Brown, Fitzpatric...|                     4|     449131.0| 456102.0|      82651.0|     648.0|        3482.0|             9.0|                 3.0|            78.0|             9.0|                7.0|              5.0|                    NULL|                 NULL|            8.0|                 3.0|0.48|\n",
      "|d72b0356-d505-427...|User-centric impa...|Wright, Harris an...|Infrastructure|  In Progress|2021-04-16|2021-06-14|        6876109|   4267970|8453 Johnny Vista...|      Matthew Hart|      41|          Chaney LLC|                     7|     699689.0| 560099.0|     581128.0|    4956.0|        7555.0|             0.0|                 8.0|            48.0|            23.0|                5.0|              2.0|                     7.0|                 10.0|           NULL|                NULL|0.58|\n",
      "|eed4e529-14af-415...|Quality-focused d...|Becker, Gardner a...|   Residential|     Planning|2023-05-12|2024-04-08|        1912294|   1793545|24201 Nicholas Av...|Christopher Carter|       6|        Robinson Ltd|                    10|     969160.0| 889914.0|     923876.0|    4158.0|        6051.0|             0.0|                 8.0|            57.0|             4.0|                3.0|              1.0|                     6.0|                  8.0|            6.0|                10.0| 0.1|\n",
      "|b1c1b899-fc62-452...|Seamless contextu...|Sparks, Hicks and...|   Residential|    Completed|2023-01-12|2024-01-04|        5092486|   5585053|39023 Jasmine Pra...|   Michelle Ritter|      32|        Ortega Group|                     4|     742993.0|     NULL|     658162.0|    7898.0|        4125.0|             5.0|                 2.0|            NULL|            30.0|               NULL|              2.0|                     8.0|                 NULL|            2.0|                 9.0|0.37|\n",
      "|cf68f98c-1f6d-4f4...|Reverse-engineere...|       Martinez-Cruz|    Commercial|  In Progress|2022-08-31|2022-11-14|        2457856|   2303670|5468 Walker Corne...|     Cynthia Kelly|      30|         Hays-Greene|                     6|     983162.0| 681165.0|     299803.0|    9066.0|        3499.0|             1.0|                 9.0|            28.0|            23.0|                7.0|              6.0|                     5.0|                  8.0|            5.0|                NULL| 0.7|\n",
      "|546e3f5e-94fa-45f...|Sharable static p...|Chen, Briggs and ...|   Residential|    Completed|2022-06-13|2023-01-02|        1899617|   8334265|59543 Allen Knoll...|    Mitchell Lucas|      18|           David Ltd|                     4|     931608.0| 481630.0|      40905.0|    7701.0|        5469.0|             2.0|                 4.0|            69.0|            26.0|                1.0|              8.0|                     9.0|                  9.0|            9.0|                 1.0|NULL|\n",
      "|8e5f55aa-1537-452...|Organized bottom-...|       Gutierrez Ltd|   Residential|     Planning|2021-09-29|2022-06-13|        3789584|   7644474|USCGC Herrera\\nFP...|Jessica Stephenson|      23|           Price Ltd|                     2|     181390.0| 460900.0|         NULL|    6945.0|        8208.0|             4.0|                 7.0|            81.0|            11.0|                5.0|              7.0|                     1.0|                  5.0|           NULL|                 4.0|0.72|\n",
      "|704b24df-8605-497...|Polarized systema...|Lopez, Ayala and ...|Infrastructure|  In Progress|2021-06-02|2022-01-01|        7068871|   3808475|PSC 5266, Box 524...|     Cheryl Miller|      12|      Richardson PLC|                     7|     215446.0| 365159.0|      69331.0|    7742.0|        8981.0|             9.0|                 1.0|             6.0|             0.0|                8.0|              6.0|                     4.0|                 10.0|            2.0|                 7.0| 0.3|\n",
      "|31cb8c71-e581-4e3...|Future-proofed ba...|     Newton-Gonzales|    Commercial|    Completed|2021-11-16|2022-01-13|        4986145|   7112532|3643 Kane Shore S...|        John Brock|      24|        Gallegos PLC|                     1|     912809.0| 268436.0|     410959.0|    8196.0|        6249.0|             0.0|                 1.0|             0.0|             8.0|                1.0|              1.0|                     4.0|                  6.0|            4.0|                 3.0|0.49|\n",
      "|0a18eded-d64a-409...|Optimized intangi...|        Hobbs-Fisher|    Commercial|     Planning|2021-12-19|2022-01-30|        9549521|   4383281|211 Jason Orchard...|      Brian Cooper|      18|     Howard-Odonnell|                     1|     323640.0|     NULL|     488433.0|    6209.0|        4208.0|             9.0|                 6.0|            35.0|            NULL|                1.0|              4.0|                    NULL|                  4.0|            7.0|                 7.0| 0.5|\n",
      "|b2f37265-abfe-47f...|Ergonomic bi-dire...|Taylor, Garcia an...|Infrastructure|     Planning|2024-03-03|2024-11-30|        7132311|   5214781|PSC 9436, Box 595...|     Susan Elliott|      32|          Thomas LLC|                     7|     331455.0| 998401.0|     519270.0|    7225.0|        2289.0|             3.0|                 4.0|            70.0|            14.0|                6.0|              5.0|                     1.0|                  5.0|            1.0|                 7.0|0.66|\n",
      "|ed8e93b3-2803-401...|Expanded value-ad...|Robertson, Beck a...|   Residential|    Completed|2023-01-23|2024-01-20|        5335062|   9875233|84839 Tran Parks ...|      Jerry Hughes|      40|           Garza Inc|                     4|     825718.0| 356299.0|     622378.0|     232.0|        2832.0|            NULL|                 9.0|            56.0|            21.0|                8.0|              2.0|                     3.0|                  3.0|            5.0|                 2.0|0.24|\n",
      "|69164a34-d6a3-4b4...|Fundamental even-...|Ramsey, Meyer and...|Infrastructure|     Planning|2023-01-27|2024-01-02|        4189974|   3448670|200 Faith Mountai...|    Jennifer White|      11|           Lee Group|                     7|     130008.0| 289898.0|      65482.0|    3881.0|        7848.0|             5.0|                NULL|            NULL|            14.0|                7.0|              5.0|                     4.0|                  8.0|            3.0|                 1.0|0.18|\n",
      "|5b8b3a71-45af-470...|Reduced client-dr...|         Rodgers Ltd|    Commercial|     Planning|2022-01-22|2022-12-12|        3078364|   7348357|30855 Cooke Cape ...|      David Brooks|      21|Austin, Green and...|                     1|     194482.0| 909792.0|     623716.0|    3616.0|        8543.0|             9.0|                 9.0|            48.0|            15.0|                2.0|             NULL|                     8.0|                  6.0|            1.0|                 7.0|0.92|\n",
      "|a453fed6-00e4-46f...|Programmable 4thg...|         Frazier Inc|Infrastructure|     Planning|2021-12-10|2022-05-09|        1540352|   7165902|PSC 2357, Box 610...|     Jamie Jackson|      25|Williams, Anderso...|                     2|     404331.0| 705031.0|     246422.0|    5258.0|        2317.0|             5.0|                 6.0|            47.0|             4.0|                9.0|              7.0|                     5.0|                  5.0|           10.0|                10.0|NULL|\n",
      "|debc15b9-37f6-412...|Universal optimiz...|Sanchez, Lee and ...|Infrastructure|    Completed|2023-08-05|2024-07-05|        5701762|   7300399|90880 Julie Islan...|         Amy James|      31|           Evans Ltd|                     4|         NULL| 511871.0|     387947.0|    2928.0|         726.0|            NULL|                 5.0|            NULL|            13.0|                8.0|              4.0|                     9.0|                  1.0|            4.0|                 7.0|0.94|\n",
      "|be0fa9f1-395c-4c9...|Operative fresh-t...|      Johnson-Davila|    Commercial|    Completed|2022-11-26|2023-08-10|        6121162|   1538512|708 Angela River ...|     Autumn Palmer|      40|          Wilson Inc|                     4|     200081.0|  24571.0|     228113.0|     468.0|        4962.0|             2.0|                NULL|            NULL|            18.0|                6.0|              2.0|                     1.0|                  7.0|            1.0|                 2.0|0.24|\n",
      "|e5bdd4e5-9b9c-4d9...|Horizontal value-...|         Barnett Inc|   Residential|     Planning|2021-06-24|2022-03-09|          47297|   4379340|20001 Tucker Fore...|       James Lopez|      46|      Berger-Jackson|                     7|      20807.0| 988205.0|         NULL|    4115.0|        4753.0|             7.0|                 0.0|            35.0|             8.0|               NULL|              4.0|                     2.0|                  2.0|            1.0|                 8.0|0.58|\n",
      "|e0741554-7516-4a8...|Enhanced attitude...|Dudley, Scott and...|    Commercial|  In Progress|2024-02-21|2024-10-30|        7543505|   8659907|81146 Daniel Caus...|      Ronald Brown|      39|Ward, Williams an...|                     9|      56472.0| 313334.0|     485206.0|    7417.0|        9530.0|             2.0|                 3.0|            37.0|            NULL|               NULL|             NULL|                    10.0|                  7.0|           NULL|                 6.0|0.23|\n",
      "|fdec6cbf-9cd4-403...|Ergonomic value-a...|Butler, Martin an...|Infrastructure|     Planning|2023-03-20|2023-10-31|        9002928|   2654022|8605 Huffman Road...|     Courtney Gray|      18|      Warren-Rollins|                     7|     430033.0| 207739.0|         NULL|    7610.0|        4419.0|             7.0|                 5.0|            59.0|            30.0|                8.0|              2.0|                     3.0|                  9.0|           NULL|                 2.0|NULL|\n",
      "|13138154-1b7c-443...|Team-oriented sys...|        Pena-Sanchez|Infrastructure|    Completed|2021-11-22|2022-10-31|        6307870|   1351164|8034 Adriana Poin...|       Brian Mason|      42|       Haley-Johnson|                     2|     620990.0| 886096.0|     254337.0|    3791.0|        1387.0|             1.0|                 5.0|            60.0|            30.0|                4.0|             NULL|                    10.0|                  2.0|            4.0|                 6.0|0.88|\n",
      "|b437d812-af95-4f9...|Switchable direct...|Turner, Salazar a...|    Commercial|  In Progress|2021-09-17|2021-12-24|        2401046|   7953648|54220 Brown Green...|        Ian Wagner|      39|      Smith and Sons|                     9|     335779.0| 872093.0|     392082.0|    4499.0|        5351.0|             0.0|                 2.0|            68.0|            18.0|                7.0|              7.0|                     5.0|                  3.0|            4.0|                 6.0|0.44|\n",
      "|8368553d-c92d-41c...|Expanded upward-t...|        Odonnell PLC|Infrastructure|  In Progress|2023-03-06|2023-08-12|        6407276|   4238202|118 Obrien Forks ...|   Allison Sanders|      40|Chambers, Hansen ...|                     4|     908808.0| 882841.0|     896706.0|    3109.0|        4988.0|             5.0|                NULL|             2.0|            15.0|               NULL|              1.0|                     7.0|                 NULL|            2.0|                 9.0|0.12|\n",
      "|20287335-10a9-43b...|Customer-focused ...|Neal, Hamilton an...|   Residential|  In Progress|2021-07-23|2021-12-17|        8913050|   8648224|89035 Hanson Mill...|     Albert Barnes|      21|         Gill-Berger|                     8|     832985.0| 404176.0|     518938.0|    9343.0|        4649.0|             1.0|                 0.0|            NULL|            29.0|                1.0|              7.0|                     2.0|                  4.0|           10.0|                 2.0|0.22|\n",
      "|4bafa549-2323-4a9...|Function-based co...|      Johnson-Hunter|   Residential|     Planning|2022-03-28|2022-07-18|         910875|   8066687|270 Michael Villa...|         Max Price|      28|         Pratt-Smith|                    10|         NULL| 891806.0|     884216.0|    8594.0|        5900.0|             3.0|                 4.0|            70.0|             7.0|                7.0|              5.0|                    NULL|                  5.0|            6.0|                 3.0|0.96|\n",
      "|893d5a43-e19b-460...|Persevering neutr...|    Martinez-Coleman|    Commercial|    Completed|2023-04-20|2023-09-23|        6451564|   4295787|3672 Campbell Ova...|      Richard Hunt|      19|     Arnold-Mcdonald|                     2|     807968.0|  41840.0|     605654.0|    6568.0|        9107.0|             1.0|                 4.0|            27.0|            23.0|                3.0|              1.0|                     8.0|                 10.0|            9.0|                 9.0|NULL|\n",
      "|918bfe9e-5795-49c...|Operative clear-t...|         Crane Group|    Commercial|    Completed|2022-10-30|2023-01-22|        8111698|   9619727|2462 Watkins Cent...|        Sean Potts|      22|Vega, Sullivan an...|                     8|       7439.0| 138956.0|         NULL|    2691.0|        4611.0|            NULL|                 1.0|            44.0|            NULL|                3.0|             10.0|                     9.0|                 NULL|            9.0|                 5.0|0.65|\n",
      "|28b59aa7-edd1-47a...|Robust holistic i...|Greene, Campbell ...|    Commercial|    Completed|2021-12-13|2022-10-04|        1494046|   8226652|6858 Lopez Creek\\...|       Brian Allen|      23|Thomas, Gomez and...|                     6|     468117.0| 150720.0|     410808.0|    7944.0|        4330.0|             5.0|                 2.0|            26.0|            12.0|               10.0|              5.0|                     6.0|                 NULL|            7.0|                NULL|0.41|\n",
      "|8915a600-d222-418...|Re-engineered dem...|   Richmond-Calderon|Infrastructure|     Planning|2022-12-31|2023-04-11|        2495506|   2269835|53887 Karen Strea...|  Gregory Hamilton|      24|Hickman, Hicks an...|                     5|     697199.0| 197941.0|     745735.0|     382.0|        3088.0|             7.0|                NULL|            67.0|            16.0|                4.0|              8.0|                     6.0|                  7.0|            3.0|                 1.0|0.92|\n",
      "|307ca542-7803-404...| Total 24/7 strategy|            Owen LLC|    Commercial|     Planning|2024-03-09|2024-05-29|        8472058|   4845216|9373 Long Heights...|     Kathryn Gomez|      17|Jones, Carpenter ...|                     6|     936443.0| 236189.0|     326363.0|      NULL|          NULL|             7.0|                 8.0|            30.0|             5.0|               NULL|              2.0|                     8.0|                 10.0|            1.0|                 1.0|0.72|\n",
      "|29ceb9d7-d09f-470...|Synergized scalab...|         Andrade LLC|    Commercial|    Completed|2023-11-30|2024-11-22|        7241731|   5585194|032 Gerald Court ...|    Meredith White|      19|    Watson-Hernandez|                     1|     872744.0| 474868.0|         NULL|    4509.0|        5831.0|             4.0|                 6.0|            59.0|            13.0|               NULL|              2.0|                    10.0|                  9.0|            4.0|                 8.0|0.22|\n",
      "|14607e81-a080-4a5...|Persevering disin...|        Miller-Parks|Infrastructure|    Completed|2022-05-05|2022-08-20|        3638746|   6709924|PSC 8832, Box 014...|  Mr. Luke Estrada|      13|           Hicks Inc|                     2|     119433.0| 494731.0|     965758.0|     182.0|        7735.0|             1.0|                 8.0|            17.0|            13.0|                2.0|              4.0|                     7.0|                  3.0|            9.0|                 6.0|0.76|\n",
      "|5986bc35-1151-48f...|Re-contextualized...|          Knight Ltd|   Residential|  In Progress|2021-07-09|2022-03-08|        7886753|   1507264|29322 Ashley Cany...|  Jonathan Shelton|      27|        Mccarthy Ltd|                     8|     927830.0| 135622.0|     988692.0|    1753.0|        7985.0|             3.0|                 9.0|            NULL|            28.0|                8.0|              1.0|                     5.0|                  2.0|            8.0|                 8.0|0.94|\n",
      "|24e10df2-bae3-456...|Multi-tiered syst...|          Zavala LLC|    Commercial|     Planning|2022-07-01|2022-09-06|         808389|   1387664|802 Petersen Tunn...|      Lisa Andrews|      14|Thompson, Frost a...|                    10|     583705.0| 260350.0|     218692.0|      NULL|        2036.0|             2.0|                 6.0|            15.0|            19.0|                2.0|             NULL|                     3.0|                 10.0|            9.0|                 3.0|0.92|\n",
      "|845b11b3-56f7-499...|Stand-alone 3rdge...|Weiss, Rice and H...|   Residential|    Completed|2023-11-25|2024-09-02|        3850361|   1220517|PSC 9969, Box 104...|Christopher Fuller|      28|            Yang Ltd|                     2|     255730.0| 230442.0|         NULL|    1135.0|          NULL|             3.0|                 8.0|            71.0|            25.0|                7.0|              3.0|                     4.0|                  5.0|            4.0|                 8.0|NULL|\n",
      "|64fdf046-a124-4ab...|Centralized recip...|       Rodriguez Ltd|    Commercial|    Completed|2021-04-08|2021-09-13|        8414497|   1527425|937 Dunn Manors S...|     Natalie Smith|      40|          Willis Inc|                     2|     326216.0| 871628.0|         NULL|    3551.0|        3391.0|             1.0|                 2.0|            72.0|            NULL|                4.0|             NULL|                     2.0|                  7.0|            7.0|                 5.0|0.69|\n",
      "|3f3c777e-3e5d-419...|Progressive botto...|Allen, Mack and M...|Infrastructure|     Planning|2021-05-30|2021-10-28|        5031547|   5064262|Unit 4073 Box 143...|    Denise Elliott|      10|           Ortiz LLC|                     5|     491631.0| 853387.0|     534851.0|    7387.0|        7849.0|             5.0|                 3.0|            21.0|             0.0|                4.0|              6.0|                     3.0|                  4.0|            7.0|                 1.0|0.62|\n",
      "|64045ce3-a008-426...|Down-sized region...|       Hahn and Sons|   Residential|    Completed|2023-02-20|2023-05-17|        5873308|   8135491|663 April Ramp Ap...|   Brian Hendricks|      28|Olson, Nguyen and...|                     8|     332562.0| 687790.0|     735722.0|    1307.0|        7131.0|             1.0|                 6.0|            89.0|             9.0|                8.0|              1.0|                    10.0|                  4.0|            1.0|                 2.0|0.13|\n",
      "+--------------------+--------------------+--------------------+--------------+-------------+----------+----------+---------------+----------+--------------------+------------------+--------+--------------------+----------------------+-------------+---------+-------------+----------+--------------+----------------+--------------------+----------------+----------------+-------------------+-----------------+------------------------+---------------------+---------------+--------------------+----+\n",
      "only showing top 100 rows\n",
      "\n"
     ]
    }
   ],
   "source": [
    "kumba_construction_df.show(100)"
   ]
  },
  {
   "cell_type": "code",
   "execution_count": 13,
   "metadata": {},
   "outputs": [
    {
     "name": "stdout",
     "output_type": "stream",
     "text": [
      "root\n",
      " |-- ProjectID: string (nullable = true)\n",
      " |-- ProjectName: string (nullable = true)\n",
      " |-- ClientName: string (nullable = true)\n",
      " |-- ProjectType: string (nullable = true)\n",
      " |-- ProjectStatus: string (nullable = true)\n",
      " |-- StartDate: date (nullable = true)\n",
      " |-- EndDate: date (nullable = true)\n",
      " |-- EstimatedBudget: integer (nullable = true)\n",
      " |-- ActualCost: integer (nullable = true)\n",
      " |-- Location: string (nullable = true)\n",
      " |-- ManagerName: string (nullable = true)\n",
      " |-- TeamSize: integer (nullable = true)\n",
      " |-- ContractorName: string (nullable = true)\n",
      " |-- NumberOfSubcontractors: integer (nullable = true)\n",
      " |-- MaterialsCost: double (nullable = true)\n",
      " |-- LaborCost: double (nullable = true)\n",
      " |-- EquipmentCost: double (nullable = true)\n",
      " |-- PermitFees: double (nullable = true)\n",
      " |-- InspectionFees: double (nullable = true)\n",
      " |-- ChangeOrderCount: double (nullable = true)\n",
      " |-- SafetyIncidentsCount: double (nullable = true)\n",
      " |-- ProjectDelayDays: double (nullable = true)\n",
      " |-- WeatherDelayDays: double (nullable = true)\n",
      " |-- ClientFeedbackScore: double (nullable = true)\n",
      " |-- QualityAuditScore: double (nullable = true)\n",
      " |-- EnvironmentalImpactScore: double (nullable = true)\n",
      " |-- EnergyEfficiencyScore: double (nullable = true)\n",
      " |-- InnovationScore: double (nullable = true)\n",
      " |-- CommunityImpactScore: double (nullable = true)\n",
      " |-- ROI: double (nullable = true)\n",
      "\n"
     ]
    }
   ],
   "source": [
    "kumba_construction_df.printSchema()"
   ]
  },
  {
   "cell_type": "code",
   "execution_count": 15,
   "metadata": {},
   "outputs": [
    {
     "data": {
      "text/plain": [
       "['ProjectID',\n",
       " 'ProjectName',\n",
       " 'ClientName',\n",
       " 'ProjectType',\n",
       " 'ProjectStatus',\n",
       " 'StartDate',\n",
       " 'EndDate',\n",
       " 'EstimatedBudget',\n",
       " 'ActualCost',\n",
       " 'Location',\n",
       " 'ManagerName',\n",
       " 'TeamSize',\n",
       " 'ContractorName',\n",
       " 'NumberOfSubcontractors',\n",
       " 'MaterialsCost',\n",
       " 'LaborCost',\n",
       " 'EquipmentCost',\n",
       " 'PermitFees',\n",
       " 'InspectionFees',\n",
       " 'ChangeOrderCount',\n",
       " 'SafetyIncidentsCount',\n",
       " 'ProjectDelayDays',\n",
       " 'WeatherDelayDays',\n",
       " 'ClientFeedbackScore',\n",
       " 'QualityAuditScore',\n",
       " 'EnvironmentalImpactScore',\n",
       " 'EnergyEfficiencyScore',\n",
       " 'InnovationScore',\n",
       " 'CommunityImpactScore',\n",
       " 'ROI']"
      ]
     },
     "execution_count": 15,
     "metadata": {},
     "output_type": "execute_result"
    }
   ],
   "source": [
    "kumba_construction_df.columns"
   ]
  },
  {
   "cell_type": "code",
   "execution_count": 16,
   "metadata": {},
   "outputs": [
    {
     "data": {
      "text/plain": [
       "1100000"
      ]
     },
     "execution_count": 16,
     "metadata": {},
     "output_type": "execute_result"
    }
   ],
   "source": [
    "#No of rows\n",
    "num_rows = kumba_construction_df.count()\n",
    "\n",
    "num_rows"
   ]
  },
  {
   "cell_type": "code",
   "execution_count": 17,
   "metadata": {},
   "outputs": [
    {
     "data": {
      "text/plain": [
       "30"
      ]
     },
     "execution_count": 17,
     "metadata": {},
     "output_type": "execute_result"
    }
   ],
   "source": [
    "# No of columns\n",
    "num_columns = len(kumba_construction_df.columns)\n",
    "\n",
    "num_columns"
   ]
  },
  {
   "cell_type": "code",
   "execution_count": 18,
   "metadata": {},
   "outputs": [
    {
     "name": "stdout",
     "output_type": "stream",
     "text": [
      "ProjectID Nulls 0\n",
      "ProjectName Nulls 0\n",
      "ClientName Nulls 0\n",
      "ProjectType Nulls 0\n",
      "ProjectStatus Nulls 0\n",
      "StartDate Nulls 0\n",
      "EndDate Nulls 0\n",
      "EstimatedBudget Nulls 0\n",
      "ActualCost Nulls 0\n",
      "Location Nulls 0\n",
      "ManagerName Nulls 0\n",
      "TeamSize Nulls 0\n",
      "ContractorName Nulls 0\n",
      "NumberOfSubcontractors Nulls 0\n",
      "MaterialsCost Nulls 109691\n",
      "LaborCost Nulls 110048\n",
      "EquipmentCost Nulls 110204\n",
      "PermitFees Nulls 109835\n",
      "InspectionFees Nulls 110074\n",
      "ChangeOrderCount Nulls 110271\n",
      "SafetyIncidentsCount Nulls 109748\n",
      "ProjectDelayDays Nulls 109724\n",
      "WeatherDelayDays Nulls 109995\n",
      "ClientFeedbackScore Nulls 110241\n",
      "QualityAuditScore Nulls 110067\n",
      "EnvironmentalImpactScore Nulls 109995\n",
      "EnergyEfficiencyScore Nulls 110693\n",
      "InnovationScore Nulls 109726\n",
      "CommunityImpactScore Nulls 110499\n",
      "ROI Nulls 109712\n"
     ]
    }
   ],
   "source": [
    "# Checking for Null values\n",
    "for column in kumba_construction_df.columns:\n",
    "    print(column, 'Nulls', kumba_construction_df.filter(kumba_construction_df[column].isNull()).count())"
   ]
  },
  {
   "cell_type": "code",
   "execution_count": 20,
   "metadata": {},
   "outputs": [],
   "source": [
    "# Fill up missing values\n",
    "kumba_construction_df_clean = kumba_construction_df.fillna({\n",
    "    'MaterialsCost' : 0.0,\n",
    "    'LaborCost' : 0.0,\n",
    "    'EquipmentCost' : 0.0,\n",
    "    'PermitFees' : 0.0,\n",
    "    'InspectionFees' : 0.0,\n",
    "    'ChangeOrderCount' : 0.0,\n",
    "    'SafetyIncidentsCount' : 0.0,\n",
    "    'ProjectDelayDays' : 0.0,\n",
    "    'WeatherDelayDays' : 0.0,\n",
    "    'ClientFeedbackScore' : 0.0,\n",
    "    'QualityAuditScore' : 0.0,\n",
    "    'EnvironmentalImpactScore' : 0.0,\n",
    "    'EnergyEfficiencyScore' : 0.0,\n",
    "    'InnovationScore' : 0.0,\n",
    "    'CommunityImpactScore' : 0.0,\n",
    "    'ROI' : 0.0\n",
    "})"
   ]
  },
  {
   "cell_type": "code",
   "execution_count": 22,
   "metadata": {},
   "outputs": [
    {
     "name": "stdout",
     "output_type": "stream",
     "text": [
      "ProjectID Nulls 0\n",
      "ProjectName Nulls 0\n",
      "ClientName Nulls 0\n",
      "ProjectType Nulls 0\n",
      "ProjectStatus Nulls 0\n",
      "StartDate Nulls 0\n",
      "EndDate Nulls 0\n",
      "EstimatedBudget Nulls 0\n",
      "ActualCost Nulls 0\n",
      "Location Nulls 0\n",
      "ManagerName Nulls 0\n",
      "TeamSize Nulls 0\n",
      "ContractorName Nulls 0\n",
      "NumberOfSubcontractors Nulls 0\n",
      "MaterialsCost Nulls 0\n",
      "LaborCost Nulls 0\n",
      "EquipmentCost Nulls 0\n",
      "PermitFees Nulls 0\n",
      "InspectionFees Nulls 0\n",
      "ChangeOrderCount Nulls 0\n",
      "SafetyIncidentsCount Nulls 0\n",
      "ProjectDelayDays Nulls 0\n",
      "WeatherDelayDays Nulls 0\n",
      "ClientFeedbackScore Nulls 0\n",
      "QualityAuditScore Nulls 0\n",
      "EnvironmentalImpactScore Nulls 0\n",
      "EnergyEfficiencyScore Nulls 0\n",
      "InnovationScore Nulls 0\n",
      "CommunityImpactScore Nulls 0\n",
      "ROI Nulls 0\n"
     ]
    }
   ],
   "source": [
    "# Checking for Null values\n",
    "for column in kumba_construction_df_clean.columns:\n",
    "    print(column, 'Nulls', kumba_construction_df_clean.filter(kumba_construction_df_clean[column].isNull()).count())"
   ]
  },
  {
   "cell_type": "code",
   "execution_count": 24,
   "metadata": {},
   "outputs": [
    {
     "name": "stdout",
     "output_type": "stream",
     "text": [
      "+-------+--------------------+--------------------+------------+-----------+-------------+------------------+------------------+--------------------+------------+------------------+--------------+----------------------+-----------------+-----------------+-----------------+-----------------+------------------+-----------------+--------------------+-----------------+------------------+-------------------+------------------+------------------------+---------------------+------------------+--------------------+-------------------+\n",
      "|summary|           ProjectID|         ProjectName|  ClientName|ProjectType|ProjectStatus|   EstimatedBudget|        ActualCost|            Location| ManagerName|          TeamSize|ContractorName|NumberOfSubcontractors|    MaterialsCost|        LaborCost|    EquipmentCost|       PermitFees|    InspectionFees| ChangeOrderCount|SafetyIncidentsCount| ProjectDelayDays|  WeatherDelayDays|ClientFeedbackScore| QualityAuditScore|EnvironmentalImpactScore|EnergyEfficiencyScore|   InnovationScore|CommunityImpactScore|                ROI|\n",
      "+-------+--------------------+--------------------+------------+-----------+-------------+------------------+------------------+--------------------+------------+------------------+--------------+----------------------+-----------------+-----------------+-----------------+-----------------+------------------+-----------------+--------------------+-----------------+------------------+-------------------+------------------+------------------------+---------------------+------------------+--------------------+-------------------+\n",
      "|  count|             1100000|             1100000|     1100000|    1100000|      1100000|           1100000|           1100000|             1100000|     1100000|           1100000|       1100000|               1100000|          1100000|          1100000|          1100000|          1100000|           1100000|          1100000|             1100000|          1100000|           1100000|            1100000|           1100000|                 1100000|              1100000|           1100000|             1100000|            1100000|\n",
      "|   mean|                NULL|                NULL|        NULL|       NULL|         NULL| 5000700.625532728| 5000405.516361818|                NULL|        NULL|27.497193636363637|          NULL|     5.499962727272727|450483.5819518182|     449719.59443|449915.3054018182|4493.331077272727| 4501.933085454545|4.047387272727272|   4.048253636363636|         40.47476|13.488029090909091|  4.946398181818182| 4.939011818181818|       4.952137272727272|   4.9459136363636365| 4.950419090909091|   4.943575454545455|0.44562586363635714|\n",
      "| stddev|                NULL|                NULL|        NULL|       NULL|         NULL|2888558.9629218294|2886863.6225477154|                NULL|        NULL|13.265222107000964|          NULL|      2.87133992209922|312160.9463457654|312325.0630246387| 312210.899886981|3119.977213929867|3124.3832088969916|3.040333883377178|   3.040494425977694|28.31795246744076|  9.60343255834651| 3.1861794849482923|3.1824972490361736|       3.185641254638712|   3.1878461372358156|3.1834890866643364|   3.186585384226615|0.31153146080149474|\n",
      "|    min|00001438-c6ee-47b...|Adaptive 24/7 Gra...|Abbott Group| Commercial|    Completed|                29|                 2|000 Aaron Oval Ap...|Aaron Abbott|                 5|  Abbott Group|                     1|              0.0|              0.0|              0.0|              0.0|               0.0|              0.0|                 0.0|              0.0|               0.0|                0.0|               0.0|                     0.0|                  0.0|               0.0|                 0.0|                0.0|\n",
      "|    max|ffffffab-2398-4ab...|Visionary zero-de...|Zuniga-Young|Residential|     Planning|           9999992|           9999995|Unit 9999 Box 939...|  Zoe Wilson|                50| Zuniga-Wright|                    10|         999997.0|         999998.0|         999999.0|           9999.0|            9999.0|              9.0|                 9.0|             90.0|              30.0|               10.0|              10.0|                    10.0|                 10.0|              10.0|                10.0|               0.99|\n",
      "+-------+--------------------+--------------------+------------+-----------+-------------+------------------+------------------+--------------------+------------+------------------+--------------+----------------------+-----------------+-----------------+-----------------+-----------------+------------------+-----------------+--------------------+-----------------+------------------+-------------------+------------------+------------------------+---------------------+------------------+--------------------+-------------------+\n",
      "\n"
     ]
    }
   ],
   "source": [
    "kumba_construction_df_clean.describe().show()"
   ]
  },
  {
   "cell_type": "code",
   "execution_count": null,
   "metadata": {},
   "outputs": [],
   "source": []
  }
 ],
 "metadata": {
  "kernelspec": {
   "display_name": "Nugabankenv",
   "language": "python",
   "name": "python3"
  },
  "language_info": {
   "codemirror_mode": {
    "name": "ipython",
    "version": 3
   },
   "file_extension": ".py",
   "mimetype": "text/x-python",
   "name": "python",
   "nbconvert_exporter": "python",
   "pygments_lexer": "ipython3",
   "version": "3.9.20"
  }
 },
 "nbformat": 4,
 "nbformat_minor": 2
}

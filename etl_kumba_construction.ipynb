{
 "cells": [
  {
   "cell_type": "markdown",
   "metadata": {},
   "source": [
    "## Importing Neccessary Libraries"
   ]
  },
  {
   "cell_type": "code",
   "execution_count": null,
   "metadata": {},
   "outputs": [],
   "source": [
    "from pyspark.sql import SparkSession\n",
    "from pyspark.sql.functions import monotonically_increasing_id, col\n",
    "from sqlalchemy import create_engine\n",
    "import pandas as pd"
   ]
  },
  {
   "cell_type": "code",
   "execution_count": null,
   "metadata": {},
   "outputs": [],
   "source": [
    "# Initialize Spark Session\n",
    "spark = SparkSession.builder.appName('kumbaConstructionETL').getOrCreate()\n",
    "#spark = SparkSession.builder.master(\"local[*]\").appName(\"MyApp\").getOrCreate()\n",
    "\n",
    "spark"
   ]
  },
  {
   "cell_type": "code",
   "execution_count": null,
   "metadata": {},
   "outputs": [],
   "source": [
    "# Read data to spark\n",
    "kumba_construction_df = spark.read.option(\"multiLine\", \"true\").option(\"delimiter\", \",\").csv(r'dataset\\kumba_construction_data.csv', header=True, inferSchema=True)"
   ]
  },
  {
   "cell_type": "code",
   "execution_count": null,
   "metadata": {},
   "outputs": [],
   "source": [
    "# Show the first 100 rows in kumba_construction_df\n",
    "kumba_construction_df.show(100)"
   ]
  },
  {
   "cell_type": "code",
   "execution_count": null,
   "metadata": {},
   "outputs": [],
   "source": [
    "# Show the schema of the data\n",
    "kumba_construction_df.printSchema()"
   ]
  },
  {
   "cell_type": "code",
   "execution_count": null,
   "metadata": {},
   "outputs": [],
   "source": [
    "#Show columns\n",
    "kumba_construction_df.columns"
   ]
  },
  {
   "cell_type": "code",
   "execution_count": null,
   "metadata": {},
   "outputs": [],
   "source": [
    "#No of rows\n",
    "num_rows = kumba_construction_df.count()\n",
    "\n",
    "num_rows"
   ]
  },
  {
   "cell_type": "code",
   "execution_count": null,
   "metadata": {},
   "outputs": [],
   "source": [
    "# No of columns\n",
    "num_columns = len(kumba_construction_df.columns)\n",
    "\n",
    "num_columns"
   ]
  },
  {
   "cell_type": "code",
   "execution_count": null,
   "metadata": {},
   "outputs": [],
   "source": [
    "# Checking for Null values\n",
    "for column in kumba_construction_df.columns:\n",
    "    print(column, 'Nulls', kumba_construction_df.filter(kumba_construction_df[column].isNull()).count())"
   ]
  },
  {
   "cell_type": "code",
   "execution_count": null,
   "metadata": {},
   "outputs": [],
   "source": [
    "# Fill up missing values\n",
    "kumba_construction_df_clean = kumba_construction_df.fillna({\n",
    "    'MaterialsCost' : 0.0,\n",
    "    'LaborCost' : 0.0,\n",
    "    'EquipmentCost' : 0.0,\n",
    "    'PermitFees' : 0.0,\n",
    "    'InspectionFees' : 0.0,\n",
    "    'ChangeOrderCount' : 0.0,\n",
    "    'SafetyIncidentsCount' : 0.0,\n",
    "    'ProjectDelayDays' : 0.0,\n",
    "    'WeatherDelayDays' : 0.0,\n",
    "    'ClientFeedbackScore' : 0.0,\n",
    "    'QualityAuditScore' : 0.0,\n",
    "    'EnvironmentalImpactScore' : 0.0,\n",
    "    'EnergyEfficiencyScore' : 0.0,\n",
    "    'InnovationScore' : 0.0,\n",
    "    'CommunityImpactScore' : 0.0,\n",
    "    'ROI' : 0.0\n",
    "})"
   ]
  },
  {
   "cell_type": "code",
   "execution_count": null,
   "metadata": {},
   "outputs": [],
   "source": [
    "# Checking for Null values\n",
    "for column in kumba_construction_df_clean.columns:\n",
    "    print(column, 'Nulls', kumba_construction_df_clean.filter(kumba_construction_df_clean[column].isNull()).count())"
   ]
  },
  {
   "cell_type": "code",
   "execution_count": null,
   "metadata": {},
   "outputs": [],
   "source": [
    "kumba_construction_df_clean.describe().show()"
   ]
  },
  {
   "cell_type": "code",
   "execution_count": null,
   "metadata": {},
   "outputs": [],
   "source": [
    "kumba_construction_df_clean.columns"
   ]
  },
  {
   "cell_type": "code",
   "execution_count": null,
   "metadata": {},
   "outputs": [],
   "source": [
    "#Client Table\n",
    "client = kumba_construction_df_clean.select('ClientName')\n",
    "\n",
    "client = client.withColumn('client_id', monotonically_increasing_id())\n",
    "\n",
    "client = client.select('client_id', 'ClientName')"
   ]
  },
  {
   "cell_type": "code",
   "execution_count": null,
   "metadata": {},
   "outputs": [],
   "source": [
    "client.show()"
   ]
  },
  {
   "cell_type": "code",
   "execution_count": null,
   "metadata": {},
   "outputs": [],
   "source": [
    "# Contractor table\n",
    "contractor = kumba_construction_df_clean.select('ContractorName', 'NumberOfSubcontractors').distinct()\n",
    "\n",
    "contractor = contractor.withColumn('contractor_id', monotonically_increasing_id())\n",
    "\n",
    "contractor = contractor.select('contractor_id', 'ContractorName', 'NumberOfSubcontractors')"
   ]
  },
  {
   "cell_type": "code",
   "execution_count": null,
   "metadata": {},
   "outputs": [],
   "source": [
    "contractor.show()"
   ]
  },
  {
   "cell_type": "code",
   "execution_count": null,
   "metadata": {},
   "outputs": [],
   "source": [
    "# Manager table\n",
    "manager = kumba_construction_df_clean.select('ManagerName').distinct()\n",
    "\n",
    "manager = manager.withColumn('manager_id', monotonically_increasing_id())\n",
    "\n",
    "manager = manager.select('manager_id','ManagerName')"
   ]
  },
  {
   "cell_type": "code",
   "execution_count": null,
   "metadata": {},
   "outputs": [],
   "source": [
    "manager.show()"
   ]
  },
  {
   "cell_type": "code",
   "execution_count": null,
   "metadata": {},
   "outputs": [],
   "source": [
    "# ProjectType table\n",
    "projecttype = kumba_construction_df_clean.select('ProjectType').distinct()\n",
    "\n",
    "projecttype = projecttype.withColumn('projecttype_id', monotonically_increasing_id())\n",
    "\n",
    "projecttype = projecttype.select('projecttype_id', 'ProjectType')"
   ]
  },
  {
   "cell_type": "code",
   "execution_count": null,
   "metadata": {},
   "outputs": [],
   "source": [
    "projecttype.show()"
   ]
  },
  {
   "cell_type": "code",
   "execution_count": null,
   "metadata": {},
   "outputs": [],
   "source": [
    "# Location Table\n",
    "location = kumba_construction_df_clean.select('Location').distinct()\n",
    "\n",
    "location = location.withColumn('location_id', monotonically_increasing_id())\n",
    "\n",
    "location = location.select('location_id', 'Location')"
   ]
  },
  {
   "cell_type": "code",
   "execution_count": null,
   "metadata": {},
   "outputs": [],
   "source": [
    "location.show()"
   ]
  },
  {
   "cell_type": "code",
   "execution_count": null,
   "metadata": {},
   "outputs": [],
   "source": [
    "# Fact Table\n",
    "fact_table = kumba_construction_df_clean.join(client, ['ClientName'], 'left') \\\n",
    "                                        .join(projecttype, ['ProjectType'], 'left') \\\n",
    "                                        .join(contractor, ['ContractorName','NumberOfSubcontractors'], 'left') \\\n",
    "                                        .join(location, ['Location'], 'left') \\\n",
    "                                        .join(manager, ['ManagerName'], 'left') \\\n",
    "                                        .select('ProjectID','ProjectName','ProjectStatus','projecttype_id','manager_id','contractor_id','client_id','location_id','StartDate','EndDate','EstimatedBudget','ActualCost','TeamSize','MaterialsCost','LaborCost','EquipmentCost','PermitFees','InspectionFees','ChangeOrderCount','SafetyIncidentsCount','ProjectDelayDays','WeatherDelayDays','ClientFeedbackScore','QualityAuditScore','EnvironmentalImpactScore','EnergyEfficiencyScore','InnovationScore','CommunityImpactScore','ROI')"
   ]
  },
  {
   "cell_type": "code",
   "execution_count": null,
   "metadata": {},
   "outputs": [],
   "source": [
    "fact_table.show(100)"
   ]
  },
  {
   "cell_type": "code",
   "execution_count": null,
   "metadata": {},
   "outputs": [],
   "source": [
    "kumba_construction_df_clean.columns"
   ]
  },
  {
   "cell_type": "code",
   "execution_count": null,
   "metadata": {},
   "outputs": [],
   "source": [
    "# Output the transformed data to parquet\n",
    "\n",
    "client.write.mode('overwrite').parquet(r'dataset/client')\n",
    "contractor.write.mode('overwrite').parquet(r'dataset/contractor')\n",
    "location.write.mode('overwrite').parquet(r'dataset/location')\n",
    "manager.write.mode('overwrite').parquet(r'dataset/manager')\n",
    "projecttype.write.mode('overwrite').parquet(r'dataset/projecttype')\n",
    "fact_table.write.mode('overwrite').parquet(r'dataset/fact_table')"
   ]
  },
  {
   "cell_type": "code",
   "execution_count": null,
   "metadata": {},
   "outputs": [],
   "source": [
    "# Convert spark df to pandas df\n",
    "client_pd_df = client.toPandas()\n",
    "contractor_pd_df = contractor.toPandas()\n",
    "manager_pd_df = manager.toPandas()\n",
    "projecttype_pd_df = projecttype.toPandas()\n",
    "location_pd_df = location.toPandas()\n",
    "fact_table_pd_df = fact_table.toPandas()"
   ]
  },
  {
   "cell_type": "code",
   "execution_count": null,
   "metadata": {},
   "outputs": [],
   "source": [
    "# Loading the dataset into a postgresql DB\n",
    "\n",
    "# define database connection parameters\n",
    "db_params = {\n",
    "    'username' : 'postgres',\n",
    "    'password' : 'Nonsosky%401',\n",
    "    'host' : 'localhost',\n",
    "    'port' : '5432',\n",
    "    'database' : 'kumba_construction'\n",
    "}\n",
    "\n",
    "# define the database connection url with db parameters\n",
    "db_url = f\"postgresql://{db_params['username']}:{db_params['password']}@{db_params['host']}:{db_params['port']}/{db_params['database']}\"\n",
    "\n",
    "# Create the database engine with the db url\n",
    "engine = create_engine(db_url)\n",
    "\n",
    "# Connect to PostgreSQL server\n",
    "with engine.connect() as connection:\n",
    "    # Create tables and load the data\n",
    "    client_pd_df.to_sql('client', connection, index=False, if_exists='replace')\n",
    "    contractor_pd_df.to_sql('contractor', connection, index=False, if_exists='replace')\n",
    "    manager_pd_df.to_sql('manager', connection, index=False, if_exists='replace')\n",
    "    projecttype_pd_df.to_sql('projecttype', connection, index=False, if_exists='replace')\n",
    "    location_pd_df.to_sql('location', connection, index=False, if_exists='replace')\n",
    "    fact_table_pd_df.to_sql('fact_table', connection, index=False, if_exists='replace')\n",
    "\n",
    "print('Database, tables and data loaded successfully')"
   ]
  }
 ],
 "metadata": {
  "kernelspec": {
   "display_name": "Nugabankenv",
   "language": "python",
   "name": "python3"
  },
  "language_info": {
   "codemirror_mode": {
    "name": "ipython",
    "version": 3
   },
   "file_extension": ".py",
   "mimetype": "text/x-python",
   "name": "python",
   "nbconvert_exporter": "python",
   "pygments_lexer": "ipython3",
   "version": "3.9.20"
  }
 },
 "nbformat": 4,
 "nbformat_minor": 2
}
